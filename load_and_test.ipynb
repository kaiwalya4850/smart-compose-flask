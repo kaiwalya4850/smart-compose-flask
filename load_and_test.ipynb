{
  "nbformat": 4,
  "nbformat_minor": 0,
  "metadata": {
    "colab": {
      "name": "Load_Smart_Compose_Keras_model.ipynb",
      "provenance": [],
      "collapsed_sections": []
    },
    "kernelspec": {
      "name": "python3",
      "display_name": "Python 3"
    },
    "accelerator": "GPU"
  },
  "cells": [
    {
      "cell_type": "code",
      "metadata": {
        "id": "b-cx3kMxVYJF",
        "colab": {
          "base_uri": "https://localhost:8080/"
        },
        "outputId": "e7c29b82-acfb-4b8c-f491-9c0cf2dbfeaf"
      },
      "source": [
        "from google.colab import drive\n",
        "drive.mount('/content/drive')\n",
        "\n",
        "import os\n",
        "os.environ['KAGGLE_CONFIG_DIR'] = \"/content/drive/My Drive/Smart\"\n",
        "%cd /content/drive/My Drive/Smart"
      ],
      "execution_count": 1,
      "outputs": [
        {
          "output_type": "stream",
          "text": [
            "Mounted at /content/drive\n",
            "/content/drive/My Drive/Smart\n"
          ],
          "name": "stdout"
        }
      ]
    },
    {
      "cell_type": "code",
      "metadata": {
        "id": "zmHTsz6PVzmu"
      },
      "source": [
        "import tensorflow as tf\n",
        "from tensorflow import keras\n",
        "\n",
        "enc_model = keras.models.load_model('encoder-model-final.h5', compile=False)\n",
        "inf_model = keras.models.load_model('inf-model-final.h5', compile=False)"
      ],
      "execution_count": 3,
      "outputs": []
    },
    {
      "cell_type": "code",
      "metadata": {
        "id": "CXWSbNbR0wB1",
        "colab": {
          "base_uri": "https://localhost:8080/"
        },
        "outputId": "e118b78d-526f-4f09-aca8-62ef0a3e0919"
      },
      "source": [
        "print(tf.__version__)"
      ],
      "execution_count": 4,
      "outputs": [
        {
          "output_type": "stream",
          "text": [
            "2.4.1\n"
          ],
          "name": "stdout"
        }
      ]
    },
    {
      "cell_type": "code",
      "metadata": {
        "id": "FYHqJz_-WpYC"
      },
      "source": [
        "import json\n",
        "\n",
        "vocab_max_size = 10000\n",
        "\n",
        "with open('word_dict-final.json') as f:\n",
        "    word_dict = json.load(f)\n",
        "    tokenizer = keras.preprocessing.text.Tokenizer(filters='', num_words=vocab_max_size)\n",
        "    tokenizer.word_index = word_dict"
      ],
      "execution_count": 5,
      "outputs": []
    },
    {
      "cell_type": "code",
      "metadata": {
        "id": "ZUoqRDG4XRhZ"
      },
      "source": [
        "import numpy as np\n",
        "\n",
        "max_length_in = 21\n",
        "max_length_out = 20\n",
        "\n",
        "def tokenize_text(text):\n",
        "  text = '<start> ' + text.lower() + ' <end>'\n",
        "  text_tensor = tokenizer.texts_to_sequences([text])\n",
        "  text_tensor = keras.preprocessing.sequence.pad_sequences(text_tensor, maxlen=max_length_in, padding=\"post\")\n",
        "  return text_tensor\n",
        "\n",
        "# Reversed map from a tokenizer index to a word\n",
        "index_to_word = dict(map(reversed, tokenizer.word_index.items()))\n",
        "\n",
        "# Given an input string, an encoder model (infenc_model) and a decoder model (infmodel),\n",
        "def decode_sequence(input_sentence):\n",
        "    sentence_tensor = tokenize_text(input_sentence)\n",
        "    # Encode the input as state vectors.\n",
        "    state = enc_model.predict(sentence_tensor)\n",
        "\n",
        "    target_seq = np.zeros((1, 1))\n",
        "    target_seq[0, 0] = tokenizer.word_index['<start>']\n",
        "    curr_word = \"<start>\"\n",
        "    decoded_sentence = ''\n",
        "\n",
        "    i = 0\n",
        "    while curr_word != \"<end>\" and i < (max_length_out - 1):\n",
        "        print(target_seq.shape)\n",
        "        output_tokens, h = inf_model.predict([target_seq, state])\n",
        "\n",
        "        curr_token = np.argmax(output_tokens[0, 0])\n",
        "\n",
        "        if (curr_token == 0):\n",
        "          break;\n",
        "\n",
        "        curr_word = index_to_word[curr_token]\n",
        "\n",
        "        decoded_sentence += ' ' + curr_word\n",
        "        target_seq[0, 0] = curr_token\n",
        "        state = h\n",
        "        i += 1\n",
        "\n",
        "    return decoded_sentence"
      ],
      "execution_count": 6,
      "outputs": []
    },
    {
      "cell_type": "code",
      "metadata": {
        "id": "L1dnYIrPZZO3",
        "colab": {
          "base_uri": "https://localhost:8080/"
        },
        "outputId": "cb2fd37b-da48-4245-a3ab-66482d667e2a"
      },
      "source": [
        "print(tokenize_text('have a'))"
      ],
      "execution_count": 7,
      "outputs": [
        {
          "output_type": "stream",
          "text": [
            "[[ 1 22 14  2  0  0  0  0  0  0  0  0  0  0  0  0  0  0  0  0  0]]\n"
          ],
          "name": "stdout"
        }
      ]
    },
    {
      "cell_type": "code",
      "metadata": {
        "id": "32IeWplxfCTh",
        "colab": {
          "base_uri": "https://localhost:8080/"
        },
        "outputId": "2edfc6ac-a26d-4658-d67b-a8d24dae4083"
      },
      "source": [
        "enc_model.summary()"
      ],
      "execution_count": 8,
      "outputs": [
        {
          "output_type": "stream",
          "text": [
            "Model: \"model_2\"\n",
            "__________________________________________________________________________________________________\n",
            "Layer (type)                    Output Shape         Param #     Connected to                     \n",
            "==================================================================================================\n",
            "input_3 (InputLayer)            [(None, 21)]         0                                            \n",
            "__________________________________________________________________________________________________\n",
            "embedding_2 (Embedding)         (None, 21, 10)       100000      input_3[0][0]                    \n",
            "__________________________________________________________________________________________________\n",
            "bidirectional_1 (Bidirectional) [(None, 21, 384), (N 235008      embedding_2[0][0]                \n",
            "__________________________________________________________________________________________________\n",
            "concatenate_1 (Concatenate)     (None, 384)          0           bidirectional_1[0][1]            \n",
            "                                                                 bidirectional_1[0][2]            \n",
            "==================================================================================================\n",
            "Total params: 335,008\n",
            "Trainable params: 335,008\n",
            "Non-trainable params: 0\n",
            "__________________________________________________________________________________________________\n"
          ],
          "name": "stdout"
        }
      ]
    },
    {
      "cell_type": "code",
      "metadata": {
        "id": "pv_nVaw0fAs9",
        "colab": {
          "base_uri": "https://localhost:8080/"
        },
        "outputId": "e2497250-997a-4427-d440-eb28c7f04311"
      },
      "source": [
        "inf_model.summary()"
      ],
      "execution_count": 9,
      "outputs": [
        {
          "output_type": "stream",
          "text": [
            "Model: \"model_3\"\n",
            "__________________________________________________________________________________________________\n",
            "Layer (type)                    Output Shape         Param #     Connected to                     \n",
            "==================================================================================================\n",
            "input_4 (InputLayer)            [(None, None)]       0                                            \n",
            "__________________________________________________________________________________________________\n",
            "embedding_3 (Embedding)         (None, None, 10)     100000      input_4[0][0]                    \n",
            "__________________________________________________________________________________________________\n",
            "input_5 (InputLayer)            [(None, 384)]        0                                            \n",
            "__________________________________________________________________________________________________\n",
            "gru_3 (GRU)                     [(None, None, 384),  456192      embedding_3[0][0]                \n",
            "                                                                 input_5[0][0]                    \n",
            "__________________________________________________________________________________________________\n",
            "dense_2 (Dense)                 (None, None, 128)    49280       gru_3[0][0]                      \n",
            "__________________________________________________________________________________________________\n",
            "dense_3 (Dense)                 (None, None, 10000)  1290000     dense_2[0][0]                    \n",
            "==================================================================================================\n",
            "Total params: 1,895,472\n",
            "Trainable params: 1,895,472\n",
            "Non-trainable params: 0\n",
            "__________________________________________________________________________________________________\n"
          ],
          "name": "stdout"
        }
      ]
    },
    {
      "cell_type": "code",
      "metadata": {
        "id": "x8UYM9E3Xj_i",
        "colab": {
          "base_uri": "https://localhost:8080/",
          "height": 165
        },
        "outputId": "37c38888-eda3-41be-ef76-18dea97efe5a"
      },
      "source": [
        "import pandas as pd\n",
        "\n",
        "texts = [\n",
        "    'Good  ']\n",
        "\n",
        "output = list(map(lambda text: (text, decode_sequence(text)), texts))\n",
        "output_df = pd.DataFrame(output, columns=[\"input\", \"output\"])\n",
        "output_df.head(len(output))"
      ],
      "execution_count": 18,
      "outputs": [
        {
          "output_type": "stream",
          "text": [
            "(1, 1)\n",
            "(1, 1)\n",
            "(1, 1)\n",
            "(1, 1)\n",
            "(1, 1)\n"
          ],
          "name": "stdout"
        },
        {
          "output_type": "execute_result",
          "data": {
            "text/html": [
              "<div>\n",
              "<style scoped>\n",
              "    .dataframe tbody tr th:only-of-type {\n",
              "        vertical-align: middle;\n",
              "    }\n",
              "\n",
              "    .dataframe tbody tr th {\n",
              "        vertical-align: top;\n",
              "    }\n",
              "\n",
              "    .dataframe thead th {\n",
              "        text-align: right;\n",
              "    }\n",
              "</style>\n",
              "<table border=\"1\" class=\"dataframe\">\n",
              "  <thead>\n",
              "    <tr style=\"text-align: right;\">\n",
              "      <th></th>\n",
              "      <th>input</th>\n",
              "      <th>output</th>\n",
              "    </tr>\n",
              "  </thead>\n",
              "  <tbody>\n",
              "    <tr>\n",
              "      <th>0</th>\n",
              "      <td>Good</td>\n",
              "      <td>is the bingham deal &lt;end&gt;</td>\n",
              "    </tr>\n",
              "  </tbody>\n",
              "</table>\n",
              "</div>"
            ],
            "text/plain": [
              "    input                      output\n",
              "0  Good     is the bingham deal <end>"
            ]
          },
          "metadata": {
            "tags": []
          },
          "execution_count": 18
        }
      ]
    },
    {
      "cell_type": "code",
      "metadata": {
        "id": "QtCu-pGiTEHi"
      },
      "source": [
        "enc_model.save('./encoder-model-2.h5')\n",
        "inf_model.save('./inf-model-2.h5')"
      ],
      "execution_count": null,
      "outputs": []
    }
  ]
}