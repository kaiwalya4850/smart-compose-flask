{
  "nbformat": 4,
  "nbformat_minor": 0,
  "metadata": {
    "colab": {
      "name": "load_and_test.ipynb",
      "provenance": [],
      "collapsed_sections": []
    },
    "kernelspec": {
      "name": "python3",
      "display_name": "Python 3"
    },
    "accelerator": "GPU"
  },
  "cells": [
    {
      "cell_type": "code",
      "metadata": {
        "id": "b-cx3kMxVYJF",
        "colab": {
          "base_uri": "https://localhost:8080/"
        },
        "outputId": "7249a93b-011c-448d-cb22-7634898ab15e"
      },
      "source": [
        "from google.colab import drive\n",
        "drive.mount('/content/drive')\n",
        "\n",
        "import os\n",
        "os.environ['KAGGLE_CONFIG_DIR'] = \"/content/drive/My Drive/Smart\"\n",
        "%cd /content/drive/My Drive/Smart"
      ],
      "execution_count": 1,
      "outputs": [
        {
          "output_type": "stream",
          "text": [
            "Mounted at /content/drive\n",
            "/content/drive/My Drive/Smart\n"
          ],
          "name": "stdout"
        }
      ]
    },
    {
      "cell_type": "code",
      "metadata": {
        "id": "zmHTsz6PVzmu"
      },
      "source": [
        "import tensorflow as tf\n",
        "from tensorflow import keras\n",
        "\n",
        "enc_model = keras.models.load_model('encoder-model-final.h5', compile=False)\n",
        "inf_model = keras.models.load_model('inf-model-final.h5', compile=False)"
      ],
      "execution_count": 2,
      "outputs": []
    },
    {
      "cell_type": "code",
      "metadata": {
        "id": "CXWSbNbR0wB1",
        "colab": {
          "base_uri": "https://localhost:8080/"
        },
        "outputId": "e118b78d-526f-4f09-aca8-62ef0a3e0919"
      },
      "source": [
        "print(tf.__version__)"
      ],
      "execution_count": null,
      "outputs": [
        {
          "output_type": "stream",
          "text": [
            "2.4.1\n"
          ],
          "name": "stdout"
        }
      ]
    },
    {
      "cell_type": "code",
      "metadata": {
        "id": "FYHqJz_-WpYC"
      },
      "source": [
        "import json\n",
        "\n",
        "vocab_max_size = 10000\n",
        "\n",
        "with open('word_dict-final.json') as f:\n",
        "    word_dict = json.load(f)\n",
        "    tokenizer = keras.preprocessing.text.Tokenizer(filters='', num_words=vocab_max_size)\n",
        "    tokenizer.word_index = word_dict"
      ],
      "execution_count": 3,
      "outputs": []
    },
    {
      "cell_type": "code",
      "metadata": {
        "id": "ZUoqRDG4XRhZ"
      },
      "source": [
        "import numpy as np\n",
        "\n",
        "max_length_in = 21\n",
        "max_length_out = 20\n",
        "\n",
        "def tokenize_text(text):\n",
        "  text = '<start> ' + text.lower() + ' <end>'\n",
        "  text_tensor = tokenizer.texts_to_sequences([text])\n",
        "  text_tensor = keras.preprocessing.sequence.pad_sequences(text_tensor, maxlen=max_length_in, padding=\"post\")\n",
        "  return text_tensor\n",
        "\n",
        "# Reversed map from a tokenizer index to a word\n",
        "index_to_word = dict(map(reversed, tokenizer.word_index.items()))\n",
        "\n",
        "# Given an input string, an encoder model (infenc_model) and a decoder model (infmodel),\n",
        "def decode_sequence(input_sentence):\n",
        "    sentence_tensor = tokenize_text(input_sentence)\n",
        "    # Encode the input as state vectors.\n",
        "    state = enc_model.predict(sentence_tensor)\n",
        "\n",
        "    target_seq = np.zeros((1, 1))\n",
        "    target_seq[0, 0] = tokenizer.word_index['<start>']\n",
        "    curr_word = \"<start>\"\n",
        "    decoded_sentence = ''\n",
        "\n",
        "    i = 0\n",
        "    while curr_word != \"<end>\" and i < (max_length_out - 1):\n",
        "        print(target_seq.shape)\n",
        "        output_tokens, h = inf_model.predict([target_seq, state])\n",
        "\n",
        "        curr_token = np.argmax(output_tokens[0, 0])\n",
        "\n",
        "        if (curr_token == 0):\n",
        "          break;\n",
        "\n",
        "        curr_word = index_to_word[curr_token]\n",
        "\n",
        "        decoded_sentence += ' ' + curr_word\n",
        "        target_seq[0, 0] = curr_token\n",
        "        state = h\n",
        "        i += 1\n",
        "\n",
        "    return decoded_sentence"
      ],
      "execution_count": 4,
      "outputs": []
    },
    {
      "cell_type": "code",
      "metadata": {
        "id": "x8UYM9E3Xj_i",
        "colab": {
          "base_uri": "https://localhost:8080/"
        },
        "outputId": "d567aaf6-6864-4750-dfed-915a3b576ce4"
      },
      "source": [
        "import pandas as pd\n",
        "\n",
        "texts = ['This looks ']\n",
        "\n",
        "output = list(map(lambda text: (text, decode_sequence(text)), texts))\n",
        "output = output[0][1]\n",
        "output = output.replace('<end>', '')\n",
        "print(output)"
      ],
      "execution_count": 25,
      "outputs": [
        {
          "output_type": "stream",
          "text": [
            "(1, 1)\n",
            "(1, 1)\n",
            " good \n"
          ],
          "name": "stdout"
        }
      ]
    },
    {
      "cell_type": "code",
      "metadata": {
        "id": "ZlrItHU1tqBG"
      },
      "source": [
        "def fin_fxn(ip_txt):\r\n",
        "    ip_txt = str(ip_txt)\r\n",
        "    texts = []\r\n",
        "    texts.append(ip_txt)\r\n",
        "    output = list(map(lambda text: (text, decode_sequence(text)), texts))\r\n",
        "    output = output[0][1]\r\n",
        "    output = output.replace('<end>', '')\r\n",
        "    print(output)\r\n",
        "    return output"
      ],
      "execution_count": 26,
      "outputs": []
    },
    {
      "cell_type": "code",
      "metadata": {
        "colab": {
          "base_uri": "https://localhost:8080/",
          "height": 171
        },
        "id": "_j_9bMucuZXq",
        "outputId": "237a55d5-21ab-4e08-e480-0cbcc01e13e4"
      },
      "source": [
        "ip = input(\"enter: \")\r\n",
        "fin_fxn(ip)"
      ],
      "execution_count": 32,
      "outputs": [
        {
          "output_type": "stream",
          "text": [
            "enter: Thanks a\n",
            "(1, 1)\n",
            "(1, 1)\n",
            "(1, 1)\n",
            "(1, 1)\n",
            "(1, 1)\n",
            "(1, 1)\n",
            " lot of the nutcracker victory \n"
          ],
          "name": "stdout"
        },
        {
          "output_type": "execute_result",
          "data": {
            "application/vnd.google.colaboratory.intrinsic+json": {
              "type": "string"
            },
            "text/plain": [
              "' lot of the nutcracker victory '"
            ]
          },
          "metadata": {
            "tags": []
          },
          "execution_count": 32
        }
      ]
    },
    {
      "cell_type": "code",
      "metadata": {
        "id": "QtCu-pGiTEHi"
      },
      "source": [
        "enc_model.save('./encoder-model-2.h5')\n",
        "inf_model.save('./inf-model-2.h5')"
      ],
      "execution_count": null,
      "outputs": []
    }
  ]
}